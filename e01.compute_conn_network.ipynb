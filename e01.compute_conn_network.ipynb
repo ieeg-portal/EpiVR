{
 "cells": [
  {
   "cell_type": "markdown",
   "metadata": {
    "level": 7
   },
   "source": [
    "<h1>Compute Connectivity Network </h1>\n",
    "\n",
    "This analysis notebook computes the control centrality as a result of virtually resecting the resection zone as a function of the multiband connectivity matrix in different bands."
   ]
  },
  {
   "cell_type": "code",
   "execution_count": 3,
   "metadata": {
    "ExecuteTime": {
     "end_time": "2017-01-23T00:17:26.366478",
     "start_time": "2017-01-23T00:17:26.357612"
    },
    "collapsed": false
   },
   "outputs": [],
   "source": [
    "from analysis.util import *\n",
    "from Echobase.Common import errors"
   ]
  },
  {
   "cell_type": "code",
   "execution_count": 5,
   "metadata": {
    "ExecuteTime": {
     "end_time": "2017-01-23T00:18:27.116953",
     "start_time": "2017-01-23T00:18:24.337079"
    },
    "collapsed": false
   },
   "outputs": [],
   "source": [
    "patient_id = 'HUP065'\n",
    "comp_dir = data['COMP_DIR']\n",
    "\n",
    "# Write resected electrodes\n",
    "dilate_radius = 2\n",
    "write_resected_electrodes(patient_id,2)\n",
    "\n",
    "# Load resected electrodes\n",
    "\n",
    "\n",
    "# Load electrodes to ignore\n",
    "\n",
    "# "
   ]
  },
  {
   "cell_type": "code",
   "execution_count": null,
   "metadata": {
    "collapsed": true
   },
   "outputs": [],
   "source": []
  }
 ],
 "metadata": {
  "hide_input": false,
  "kernelspec": {
   "display_name": "Python 2",
   "language": "python",
   "name": "python2"
  },
  "language_info": {
   "codemirror_mode": {
    "name": "ipython",
    "version": 2
   },
   "file_extension": ".py",
   "mimetype": "text/x-python",
   "name": "python",
   "nbconvert_exporter": "python",
   "pygments_lexer": "ipython2",
   "version": "2.7.13"
  },
  "latex_envs": {
   "bibliofile": "biblio.bib",
   "cite_by": "apalike",
   "current_citInitial": 1,
   "eqLabelWithNumbers": true,
   "eqNumInitial": 0
  }
 },
 "nbformat": 4,
 "nbformat_minor": 0
}
